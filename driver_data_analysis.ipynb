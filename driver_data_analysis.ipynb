{
 "cells": [
  {
   "cell_type": "code",
   "execution_count": 17,
   "metadata": {},
   "outputs": [],
   "source": [
    "#Import libraries\n",
    "import data_preprocessing as pre\n",
    "import global_vals as global_vals\n",
    "import csv\n",
    "import os\n",
    "import glob\n",
    "import pandas as pd\n",
    "import numpy as np\n",
    "import matplotlib.pyplot as plt\n",
    "import seaborn as sns\n",
    "from sklearn.model_selection import train_test_split\n",
    "from sklearn.linear_model import LogisticRegression\n",
    "from sklearn.metrics import confusion_matrix\n",
    "from sklearn.metrics import roc_curve\n",
    "from sklearn.metrics import roc_auc_score\n",
    "from sklearn.metrics import accuracy_score\n",
    "from sklearn.metrics import classification_report\n",
    "import warnings\n",
    "warnings.filterwarnings('ignore')"
   ]
  },
  {
   "cell_type": "code",
   "execution_count": 2,
   "metadata": {},
   "outputs": [],
   "source": [
    "def get_acc_roll_angle(acc_y, acc_z):\n",
    "    \"\"\"\n",
    "    returns roll angle\n",
    "    \"\"\"\n",
    "    return np.degrees(np.arctan(acc_y / acc_z))\n",
    "\n",
    "def get_acc_pitch_angle(acc_x, acc_y, acc_z):\n",
    "    \"\"\"\"\n",
    "    Return Pitch angle\n",
    "    \"\"\"\n",
    "    denominator = np.sqrt(np.power(acc_y, 2) + np.power(acc_z, 2))\n",
    "    pitch_angle = np.degrees(np.arctan(((-1) * acc_x) / denominator))\n",
    "    return pitch_angle"
   ]
  },
  {
   "cell_type": "code",
   "execution_count": 4,
   "metadata": {},
   "outputs": [],
   "source": [
    "#Data Pre Processing\n",
    "path = r'C:/Users/Mohit.Nagpal/Desktop/driverBehaviourAnalysis-master/Trip data'\n",
    "# Extract all files extension is .csv\n",
    "files = glob.glob(os.path.join(path, \"*.csv\"))\n",
    "#files = files[0:11]\n",
    "data = []\n",
    "for csv in files:\n",
    "    header = ['time_vector(s)','rpm','speed(kmph)','engine_load','acc_x(G)','acc_y(G)','acc_z(G)','gyro_x(rad_per_s)','gyro_y(rad_per_s)','gyro_z(rad_per_s)','mag_x','mag_y','mag_z']   \n",
    "    frame = pd.read_csv(csv,names=header)\n",
    "    frame['date'] = os.path.basename(csv)\n",
    "    data.append(frame)"
   ]
  },
  {
   "cell_type": "code",
   "execution_count": 5,
   "metadata": {},
   "outputs": [],
   "source": [
    "df = pd.concat(data, ignore_index=True)\n",
    "df['date'] =df['date'].apply(lambda x : x.split(\".\")[0].replace(\"_\",\"-\"))\n",
    "df['date'] = pd.to_datetime(df['date'], format='%Y-%m-%d-%H-%M-%S')\n",
    "df = df[df['speed(kmph)'] > 0 ]  #when vehicle is moving\n",
    "df.reset_index(drop=True, inplace=True)"
   ]
  },
  {
   "cell_type": "code",
   "execution_count": 6,
   "metadata": {},
   "outputs": [
    {
     "data": {
      "text/plain": [
       "45     1812\n",
       "44     1746\n",
       "43     1736\n",
       "1      1706\n",
       "41     1647\n",
       "42     1574\n",
       "35     1528\n",
       "40     1517\n",
       "26     1498\n",
       "29     1495\n",
       "46     1493\n",
       "33     1482\n",
       "19     1465\n",
       "21     1462\n",
       "23     1460\n",
       "39     1452\n",
       "38     1451\n",
       "34     1450\n",
       "30     1441\n",
       "28     1437\n",
       "24     1432\n",
       "2      1427\n",
       "32     1426\n",
       "31     1422\n",
       "20     1417\n",
       "27     1411\n",
       "17     1407\n",
       "3      1401\n",
       "37     1400\n",
       "5      1399\n",
       "       ... \n",
       "91      168\n",
       "102     167\n",
       "88      165\n",
       "80      162\n",
       "95      159\n",
       "94      158\n",
       "89      157\n",
       "79      156\n",
       "97      155\n",
       "87      153\n",
       "108     153\n",
       "99      149\n",
       "110     144\n",
       "96      143\n",
       "107     143\n",
       "81      140\n",
       "98      139\n",
       "83      135\n",
       "104     131\n",
       "101     130\n",
       "86      122\n",
       "109     121\n",
       "82      120\n",
       "111     120\n",
       "85      116\n",
       "84      107\n",
       "112      77\n",
       "113      54\n",
       "114      11\n",
       "115       6\n",
       "Name: speed(kmph), Length: 115, dtype: int64"
      ]
     },
     "execution_count": 6,
     "metadata": {},
     "output_type": "execute_result"
    }
   ],
   "source": [
    "df['speed(kmph)'].value_counts()"
   ]
  },
  {
   "cell_type": "code",
   "execution_count": 7,
   "metadata": {},
   "outputs": [],
   "source": [
    "ac = []\n",
    "gy = []\n",
    "for i in range(0, len(df)):\n",
    "    a = max(df['acc_x(G)'][i] , df['acc_y(G)'][i] , df['acc_z(G)'][i])\n",
    "    b = max(df['gyro_x(rad_per_s)'][i], df['gyro_y(rad_per_s)'][i], df['gyro_z(rad_per_s)'][i])\n",
    "    ac.append(a)\n",
    "    gy.append(b)\n",
    "\n",
    "df['acc'] = ac\n",
    "df['gyro'] = gy\n",
    "df['accX_ms'] = df['acc_x(G)'] * 9.807\n",
    "df['accY_ms'] = df['acc_y(G)'] * 9.807\n",
    "df['accZ_ms'] = df['acc_z(G)'] * 9.807\n",
    "df['gyroX_dps'] = df['gyro_x(rad_per_s)'] * 57.296\n",
    "df['gyroY_dps'] = df['gyro_y(rad_per_s)'] * 57.296\n",
    "df['gyroZ_dps'] = df['gyro_z(rad_per_s)'] * 57.296\n",
    "df['acc_ms'] = df['acc']  * 9.807\n",
    "df['gyro_dps'] = df['gyro'] * 57.296\n",
    "df['speed_mps'] = df['speed(kmph)'] *0.278\n",
    "df['acc_roll_angle'] = get_acc_roll_angle(df['accY_ms'], df['accZ_ms'])\n",
    "df['acc_pitch_angle'] = get_acc_pitch_angle(df['accX_ms'], df['accY_ms'], df['accZ_ms'])\n",
    "df1 = df[['date','speed_mps', 'acc_ms', 'gyro_dps', 'acc_roll_angle', 'acc_pitch_angle']]\n",
    "df1.to_csv(r\"C:/Users/Mohit.Nagpal/Desktop/driverBehaviourAnalysis-master/ProcessedData/processed_data.csv\", index=False) #saving in csv"
   ]
  },
  {
   "cell_type": "code",
   "execution_count": 11,
   "metadata": {},
   "outputs": [],
   "source": [
    "class Driver:\n",
    "    \n",
    "    def __init__(self):\n",
    "        #preprocess = pre.data_preprocess()\n",
    "        self.dataset = df1\n",
    "        self.file_init = False\n",
    "        self.file_name = 'feature_outputs/'\n",
    "        \n",
    "    def get_dataset(self):\n",
    "        return self.dataset\n",
    "    \n",
    "    def generate_features_csv(self,feature_vector,row_count):\n",
    "        if(self.file_init == False):\n",
    "            self.file_name += \"driver_features.csv\"\n",
    "            self.file_init = True\n",
    "            header = ['index','max_speed','max_rotation','max_acc','avg_acc','avg_rotation','avg_speed','min_acc','min_speed','min_rotation','acc_roll_angle', 'acc_pitch_angle']\n",
    "            with open(self.file_name, 'w') as writeFile:\n",
    "                writer = csv.writer(writeFile)\n",
    "                writer.writerow(header)\n",
    "            writeFile.close()\n",
    "        else:\n",
    "            feature_vector = list(feature_vector.values())\n",
    "            feature_vector = [row_count]+feature_vector\n",
    "            with open(self.file_name, 'a') as writeFile:\n",
    "                writer = csv.writer(writeFile)\n",
    "                writer.writerow(feature_vector)\n",
    "            writeFile.close()\n",
    "    \n",
    "    def write_features(self,feature_vector,row_count):\n",
    "        if(self.file_init == False):\n",
    "            self.file_name += \"driver_features.csv\"\n",
    "            self.file_init = True\n",
    "            header = ['index','max_speed','max_rotation','max_acc','avg_acc','avg_rotation','avg_speed','min_acc','min_speed','min_rotation','acc_roll_angle', 'acc_pitch_angle','score']\n",
    "            with open(self.file_name, 'w') as writeFile:\n",
    "                writer = csv.writer(writeFile)\n",
    "                writer.writerow(header)\n",
    "            writeFile.close()\n",
    "        else:\n",
    "            score = 10.0\n",
    "            if (feature_vector['max_speed'] > 10.5):\n",
    "                score = score - 1.3\n",
    "            elif (feature_vector['max_speed'] >12.5):\n",
    "                score = score - 2.9\n",
    "            elif (feature_vector['max_speed'] > 15.0): \n",
    "                score = score - 5.7\n",
    "            if (feature_vector['avg_speed'] >10.5):\n",
    "                score = score - 1.5\n",
    "            #no need for other speed conditions since max conditions covers them\n",
    "            if (feature_vector['max_rotation'] >0.1):\n",
    "                score = score - 0.5\n",
    "            elif (feature_vector['max_rotation'] >0.8):\n",
    "                score = score - 0.8\n",
    "            if (feature_vector['avg_rotation'] >0.1):\n",
    "                score = score - 0.6\n",
    "            if (feature_vector['max_acc'] >1.5 and feature_vector['max_acc'] <2.0):\n",
    "                score = score - 1.8\n",
    "            elif (feature_vector['max_acc'] >1.0 and feature_vector['max_acc'] <2.0):\n",
    "                score = score - 1.0\n",
    "            if (feature_vector['avg_acc'] >1.0):\n",
    "                score = score - 0.4\n",
    "            feature_vector = list(feature_vector.values())\n",
    "            feature_vector = [row_count]+feature_vector+[score]\n",
    "            with open(self.file_name, 'a') as writeFile:\n",
    "                writer = csv.writer(writeFile)\n",
    "                writer.writerow(feature_vector)\n",
    "            writeFile.close()\n",
    "            \n",
    "\n",
    "    \n",
    "    def generate_feature_vectors(self):\n",
    "        self.data_rows = self.dataset.iloc[:,:-1].values.tolist()\n",
    "        self.feature_vector = {}\n",
    "        speed = self.dataset['speed_mps'].values\n",
    "        acc = self.dataset['acc_ms'].values\n",
    "        gyro = self.dataset['gyro_dps'].values\n",
    "        acc_roll_angle = self.dataset['acc_roll_angle'].values\n",
    "        acc_pitch_angle = self.dataset['acc_pitch_angle'].values\n",
    "        print(len(self.data_rows))\n",
    "        for row_count in range(len(self.data_rows)):\n",
    "            feature_element = {}\n",
    "            max_speed = 0\n",
    "            min_speed = 999\n",
    "            avg_speed = 0\n",
    "            max_acc = 0\n",
    "            min_acc =999\n",
    "            avg_acc = 0\n",
    "            max_rotation = 0\n",
    "            min_rotation = 999\n",
    "            avg_rotation = 0\n",
    "            count=0\n",
    "            if (row_count+global_vals.sample_size>len(self.data_rows)):\n",
    "                global_vals.sample_size = global_vals.sample_size - row_count - 1\n",
    "            while count in range(global_vals.sample_size):\n",
    "                max_speed = abs(speed[row_count+count]) if abs(speed[row_count+count])>max_speed else max_speed\n",
    "                max_rotation = abs(gyro[row_count+count]) if abs(gyro[row_count+count])>max_rotation else max_rotation\n",
    "                max_acc = abs(acc[row_count+count]) if abs(acc[row_count+count])>max_acc else max_acc\n",
    "                acc_roll = acc_roll_angle[row_count+count]\n",
    "                acc_pitch = acc_pitch_angle[row_count+count]\n",
    "\n",
    "                avg_speed+=abs(speed[row_count+count])\n",
    "                avg_acc+=abs(acc[row_count+count])\n",
    "                avg_rotation+=abs(gyro[row_count+count])\n",
    "                \n",
    "                min_speed = abs(speed[row_count+count]) if abs(speed[row_count+count])<min_speed else min_speed\n",
    "                min_rotation = abs(gyro[row_count+count]) if abs(gyro[row_count+count])<min_rotation else min_rotation\n",
    "                min_acc = abs(acc[row_count+count]) if abs(acc[row_count+count])<min_acc else min_acc\n",
    "                count+=1\n",
    "            \n",
    "            if(count>0):\n",
    "                avg_acc/=global_vals.sample_size\n",
    "                avg_speed/=global_vals.sample_size\n",
    "                avg_rotation/=global_vals.sample_size\n",
    "                \n",
    "                feature_element['max_speed'] = max_speed\n",
    "                feature_element['max_rotation'] = max_rotation\n",
    "                feature_element['max_acc'] = max_acc\n",
    "                feature_element['avg_acc'] = avg_acc\n",
    "                feature_element['avg_rotation'] = avg_rotation\n",
    "                feature_element['avg_speed'] = avg_speed\n",
    "                feature_element['min_acc'] = min_acc\n",
    "                feature_element['min_speed'] = min_speed\n",
    "                feature_element['min_rotation'] = min_rotation\n",
    "                feature_element['acc_roll_angle'] = acc_roll\n",
    "                feature_element['acc_pitch_angle'] = acc_pitch\n",
    "                \n",
    "                \n",
    "                if global_vals.train_mode == True:\n",
    "                    self.write_features(feature_element,row_count)\n",
    "                else:\n",
    "                    self.generate_features_csv(feature_element,row_count)\n",
    "                \n",
    "                \n",
    "                self.feature_vector[row_count] = feature_element\n",
    "\n",
    "        return self.feature_vector"
   ]
  },
  {
   "cell_type": "code",
   "execution_count": 18,
   "metadata": {},
   "outputs": [
    {
     "name": "stdout",
     "output_type": "stream",
     "text": [
      "91610\n"
     ]
    }
   ],
   "source": [
    "Driver_obj = Driver()\n",
    "feature_dict = Driver_obj.generate_feature_vectors()"
   ]
  },
  {
   "cell_type": "code",
   "execution_count": 31,
   "metadata": {},
   "outputs": [],
   "source": [
    "df2 = pd.read_csv(r'C:/Users/Mohit.Nagpal/Desktop/driverBehaviourAnalysis-master/feature_outputs/driver_features.csv')\n",
    "df2 = df2.drop(['index'], axis=1)"
   ]
  },
  {
   "cell_type": "code",
   "execution_count": 32,
   "metadata": {},
   "outputs": [],
   "source": [
    "from sklearn import linear_model\n",
    "from sklearn.model_selection import train_test_split\n",
    "from sklearn.linear_model import LogisticRegression"
   ]
  },
  {
   "cell_type": "code",
   "execution_count": null,
   "metadata": {},
   "outputs": [],
   "source": []
  },
  {
   "cell_type": "code",
   "execution_count": 33,
   "metadata": {},
   "outputs": [],
   "source": [
    "#Modeling\n",
    "X = df2.iloc[:, :11].values\n",
    "y = df2.iloc[:, 11].values\n",
    "\n",
    "for count in range(0,len(y)):\n",
    "    if y[count] <7.5:\n",
    "        y[count]=0\n",
    "    else:\n",
    "        y[count]=1"
   ]
  },
  {
   "cell_type": "code",
   "execution_count": 34,
   "metadata": {},
   "outputs": [
    {
     "data": {
      "text/plain": [
       "0.0    52357\n",
       "1.0    39243\n",
       "Name: score, dtype: int64"
      ]
     },
     "execution_count": 34,
     "metadata": {},
     "output_type": "execute_result"
    }
   ],
   "source": [
    "df2['score'].value_counts()"
   ]
  },
  {
   "cell_type": "code",
   "execution_count": 45,
   "metadata": {},
   "outputs": [
    {
     "name": "stdout",
     "output_type": "stream",
     "text": [
      "73280\n",
      "73280\n",
      "18320\n",
      "18320\n",
      "[[-0.21043532  0.01601276  0.0029511  -0.26991365 -0.03050165 -0.09666001\n",
      "  -0.69853391 -0.16171271 -0.04630147  0.0086305  -0.00290166]]\n",
      "[4.02770369]\n",
      "True Negatives: 8898\n",
      "True Positives: 6429\n",
      "False Negatives: 1535\n",
      "False Positives : 1458\n"
     ]
    }
   ],
   "source": [
    "#Modeling\n",
    "X_train, X_test, y_train, y_test = train_test_split(X, y, test_size = 0.2, random_state = 0)\n",
    "print(len(X_train)),print(len(y_train)),print(len(X_test)),print(len(y_test))\n",
    "lreg = LogisticRegression()\n",
    "lreg.fit(X_train, y_train)\n",
    "print(lreg.coef_)\n",
    "print(lreg.intercept_)\n",
    "y_pred = lr.predict(X_test)\n",
    "tn,fp,fn,tp=confusion_matrix(y_test, y_pred).ravel()\n",
    "print(\"True Negatives:\",tn)\n",
    "print(\"True Positives:\",tp)\n",
    "print(\"False Negatives:\",fn)\n",
    "print(\"False Positives :\",fp)"
   ]
  },
  {
   "cell_type": "code",
   "execution_count": 42,
   "metadata": {},
   "outputs": [
    {
     "data": {
      "text/plain": [
       "0.8366266375545851"
      ]
     },
     "execution_count": 42,
     "metadata": {},
     "output_type": "execute_result"
    }
   ],
   "source": [
    "#Accuracy of the model\n",
    "from sklearn.metrics import accuracy_score\n",
    "score=accuracy_score(y_test,y_pred)\n",
    "score"
   ]
  },
  {
   "cell_type": "code",
   "execution_count": 54,
   "metadata": {},
   "outputs": [
    {
     "name": "stdout",
     "output_type": "stream",
     "text": [
      "Accuracy0.84\n",
      "Precision0.82\n",
      "Recall0.81\n",
      "Specificity0.86\n",
      "Sensitivity0.81\n"
     ]
    }
   ],
   "source": [
    "# Accuracy using Formulas\n",
    "Accuracy= (tp+tn)/(tp+tn+fp+fn)\n",
    "Precision=tp/(tp+fp)\n",
    "Recall=tp/(tp+fn)\n",
    "Specificity=tn/(tn+fp)\n",
    "Sensitivity=tp/(fn+tp)\n",
    "print(\"Accuracy{:0.2f}\".format(Accuracy))\n",
    "print(\"Precision{:0.2f}\".format(Precision))\n",
    "print(\"Recall{:0.2f}\".format(Recall))\n",
    "print(\"Specificity{:0.2f}\".format(Specificity))\n",
    "print(\"Sensitivity{:0.2f}\".format(Sensitivity)) # Recall= Sensitivity"
   ]
  },
  {
   "cell_type": "code",
   "execution_count": 55,
   "metadata": {},
   "outputs": [
    {
     "name": "stdout",
     "output_type": "stream",
     "text": [
      "              precision    recall  f1-score   support\n",
      "\n",
      "         0.0       0.85      0.86      0.86     10356\n",
      "         1.0       0.82      0.81      0.81      7964\n",
      "\n",
      "   micro avg       0.84      0.84      0.84     18320\n",
      "   macro avg       0.83      0.83      0.83     18320\n",
      "weighted avg       0.84      0.84      0.84     18320\n",
      "\n"
     ]
    }
   ],
   "source": [
    "print(classification_report(y_test, y_pred))"
   ]
  },
  {
   "cell_type": "code",
   "execution_count": 56,
   "metadata": {},
   "outputs": [
    {
     "data": {
      "image/png": "[encoded data removed]",
      "text/plain": [
       "<Figure size 432x288 with 1 Axes>"
      ]
     },
     "metadata": {
      "needs_background": "light"
     },
     "output_type": "display_data"
    }
   ],
   "source": [
    "logit_roc_auc = roc_auc_score(y_test, y_pred)\n",
    "fpr, tpr, thresholds = roc_curve(y_test,lr.predict_proba(X_test)[:,1])\n",
    "plt.figure()\n",
    "plt.plot(fpr, tpr, label='Logistic Regression (area = %0.2f)' % logit_roc_auc)\n",
    "plt.plot([0, 1], [0, 1],'r--')\n",
    "plt.xlim([0.0, 1.0])\n",
    "plt.ylim([0.0, 1.05])\n",
    "plt.xlabel('False Positive Rate')\n",
    "plt.ylabel('True Positive Rate')\n",
    "plt.title('ROC Curve')\n",
    "plt.legend(loc=\"lower right\")\n",
    "plt.show()"
   ]
  },
  {
   "cell_type": "code",
   "execution_count": null,
   "metadata": {},
   "outputs": [],
   "source": []
  }
 ],
 "metadata": {
  "kernelspec": {
   "display_name": "Python 3",
   "language": "python",
   "name": "python3"
  },
  "language_info": {
   "codemirror_mode": {
    "name": "ipython",
    "version": 3
   },
   "file_extension": ".py",
   "mimetype": "text/x-python",
   "name": "python",
   "nbconvert_exporter": "python",
   "pygments_lexer": "ipython3",
   "version": "3.7.3"
  }
 },
 "nbformat": 4,
 "nbformat_minor": 4
}
